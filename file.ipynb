from arcgis.gis import GIS
my_gis = GIS()
map1 = my_gis.map('United States')
map1